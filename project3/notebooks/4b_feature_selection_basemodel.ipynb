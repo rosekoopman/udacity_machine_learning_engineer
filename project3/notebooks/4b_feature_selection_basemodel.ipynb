{
 "cells": [
  {
   "cell_type": "code",
   "execution_count": 8,
   "id": "rough-sheet",
   "metadata": {},
   "outputs": [],
   "source": [
    "import pandas as pd\n",
    "import numpy as np\n",
    "import os\n",
    "import glob\n"
   ]
  },
  {
   "cell_type": "code",
   "execution_count": 29,
   "id": "polished-mortality",
   "metadata": {},
   "outputs": [],
   "source": [
    "FORECAST_PERIOD = 7"
   ]
  },
  {
   "cell_type": "code",
   "execution_count": 30,
   "id": "chicken-platform",
   "metadata": {},
   "outputs": [],
   "source": [
    "def load_data(files):\n",
    "    \n",
    "    # initiate dict to store data\n",
    "    dfs = {}\n",
    "\n",
    "    for f in files:\n",
    "\n",
    "        # get name of the water body from the filename\n",
    "        database = f.split('\\\\')[-1].replace('.csv','')\n",
    "    \n",
    "        # load the data\n",
    "        df = pd.read_csv(f)\n",
    "\n",
    "        # get start and end data of the data\n",
    "        if 'Date' in df.columns:\n",
    "            df['Date'] = pd.to_datetime(df['Date'])\n",
    "\n",
    "        # store data in dictionary by water body name\n",
    "        dfs[database] = df\n",
    "    \n",
    "    return dfs"
   ]
  },
  {
   "cell_type": "code",
   "execution_count": 31,
   "id": "earned-offense",
   "metadata": {},
   "outputs": [],
   "source": [
    "datadir = '../data/'\n",
    "cleandir = os.path.join(datadir, 'clean')\n",
    "featsengdir = os.path.join(datadir, 'featseng', 'D%d'%FORECAST_PERIOD)\n",
    "featsdir = os.path.join(datadir, 'feats', 'D%d'%FORECAST_PERIOD)"
   ]
  },
  {
   "cell_type": "code",
   "execution_count": 32,
   "id": "extra-plenty",
   "metadata": {},
   "outputs": [],
   "source": [
    "files = glob.glob(os.path.join(featsengdir, '*.csv'))\n",
    "filename_cols = glob.glob(os.path.join(cleandir, '*.xlsx'))[0]"
   ]
  },
  {
   "cell_type": "code",
   "execution_count": 33,
   "id": "international-demographic",
   "metadata": {},
   "outputs": [],
   "source": [
    "dfs = load_data(files)\n",
    "names = list(dfs.keys())\n",
    "\n",
    "dfcols = pd.read_excel(filename_cols, engine='openpyxl')"
   ]
  },
  {
   "cell_type": "code",
   "execution_count": 34,
   "id": "baking-formation",
   "metadata": {},
   "outputs": [
    {
     "data": {
      "text/plain": [
       "['Aquifer_Auser', 'Aquifer_Petrignano', 'Lake_Bilancino', 'River_Arno']"
      ]
     },
     "execution_count": 34,
     "metadata": {},
     "output_type": "execute_result"
    }
   ],
   "source": [
    "names"
   ]
  },
  {
   "cell_type": "code",
   "execution_count": 35,
   "id": "indie-honey",
   "metadata": {},
   "outputs": [
    {
     "data": {
      "text/plain": [
       "'../data/feats\\\\D7\\\\base'"
      ]
     },
     "execution_count": 35,
     "metadata": {},
     "output_type": "execute_result"
    }
   ],
   "source": [
    "savedir = os.path.join(featsdir, 'base')\n",
    "savedir"
   ]
  },
  {
   "cell_type": "code",
   "execution_count": 36,
   "id": "developed-stuart",
   "metadata": {},
   "outputs": [],
   "source": [
    "for name in names:\n",
    "    \n",
    "    df = dfs[name]\n",
    "    targets = dfcols[(dfcols['name']==name) & (dfcols['coltype']=='target')]['colname'].unique()\n",
    "    \n",
    "    for target in targets:\n",
    "        dfsel = df[[target, 'auto_%s'%target, 'Date']]\n",
    "        filename = '%s_%s.csv'%(name, target)\n",
    "        dfsel.to_csv(os.path.join(savedir, filename), index=False)\n"
   ]
  },
  {
   "cell_type": "code",
   "execution_count": null,
   "id": "activated-eligibility",
   "metadata": {},
   "outputs": [],
   "source": []
  }
 ],
 "metadata": {
  "kernelspec": {
   "display_name": "Python 3",
   "language": "python",
   "name": "python3"
  },
  "language_info": {
   "codemirror_mode": {
    "name": "ipython",
    "version": 3
   },
   "file_extension": ".py",
   "mimetype": "text/x-python",
   "name": "python",
   "nbconvert_exporter": "python",
   "pygments_lexer": "ipython3",
   "version": "3.6.8"
  }
 },
 "nbformat": 4,
 "nbformat_minor": 5
}
