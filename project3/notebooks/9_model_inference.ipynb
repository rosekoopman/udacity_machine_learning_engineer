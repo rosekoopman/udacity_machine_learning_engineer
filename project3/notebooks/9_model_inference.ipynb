{
 "cells": [
  {
   "cell_type": "code",
   "execution_count": 1,
   "id": "acknowledged-mayor",
   "metadata": {},
   "outputs": [],
   "source": [
    "import os\n",
    "import glob\n",
    "import pickle\n",
    "import re\n",
    "import pandas as pd\n",
    "import numpy as np\n",
    "\n",
    "import matplotlib.pyplot as plt\n",
    "\n",
    "from joblib import dump, load\n",
    "\n",
    "from sklearn.preprocessing import MinMaxScaler\n",
    "from sklearn.linear_model import LinearRegression\n",
    "from sklearn.neural_network import MLPRegressor\n",
    "from sklearn.svm import SVR\n",
    "from sklearn.ensemble import GradientBoostingRegressor\n",
    "from sklearn.gaussian_process.kernels import DotProduct, WhiteKernel\n",
    "from sklearn.model_selection import GridSearchCV\n",
    "\n",
    "from acea.data_loaders import load_raw_data\n",
    "from acea.configuration import cleaning_config, cols_to_avg_config, cols_to_drop_config\n",
    "from acea.data_preparation import clean_data, create_features\n",
    "\n",
    "%matplotlib inline"
   ]
  },
  {
   "cell_type": "markdown",
   "id": "human-blend",
   "metadata": {},
   "source": [
    "# Settings"
   ]
  },
  {
   "cell_type": "code",
   "execution_count": 2,
   "id": "vital-assembly",
   "metadata": {},
   "outputs": [],
   "source": [
    "FORECAST_PERIOD = 60\n",
    "TEST_PERIOD = 30\n"
   ]
  },
  {
   "cell_type": "code",
   "execution_count": 3,
   "id": "representative-drink",
   "metadata": {},
   "outputs": [],
   "source": [
    "datadir = '../data/raw/'\n",
    "modeldir = '../models'"
   ]
  },
  {
   "cell_type": "code",
   "execution_count": 4,
   "id": "orange-treasury",
   "metadata": {},
   "outputs": [],
   "source": [
    "filename = 'Aquifer_Auser.csv'\n",
    "target = 'Depth_to_Groundwater_COS'\n",
    "\n"
   ]
  },
  {
   "cell_type": "markdown",
   "id": "convinced-perry",
   "metadata": {},
   "source": [
    "# Load raw data"
   ]
  },
  {
   "cell_type": "code",
   "execution_count": 23,
   "id": "robust-underground",
   "metadata": {},
   "outputs": [],
   "source": [
    "\n",
    "df = load_raw_data(os.path.join(datadir, filename))\n"
   ]
  },
  {
   "cell_type": "code",
   "execution_count": 24,
   "id": "piano-header",
   "metadata": {},
   "outputs": [
    {
     "data": {
      "text/html": [
       "<div>\n",
       "<style scoped>\n",
       "    .dataframe tbody tr th:only-of-type {\n",
       "        vertical-align: middle;\n",
       "    }\n",
       "\n",
       "    .dataframe tbody tr th {\n",
       "        vertical-align: top;\n",
       "    }\n",
       "\n",
       "    .dataframe thead th {\n",
       "        text-align: right;\n",
       "    }\n",
       "</style>\n",
       "<table border=\"1\" class=\"dataframe\">\n",
       "  <thead>\n",
       "    <tr style=\"text-align: right;\">\n",
       "      <th></th>\n",
       "      <th>Date</th>\n",
       "      <th>Rainfall_Gallicano</th>\n",
       "      <th>Rainfall_Pontetetto</th>\n",
       "      <th>Rainfall_Monte_Serra</th>\n",
       "      <th>Rainfall_Orentano</th>\n",
       "      <th>Rainfall_Borgo_a_Mozzano</th>\n",
       "      <th>Rainfall_Piaggione</th>\n",
       "      <th>Rainfall_Calavorno</th>\n",
       "      <th>Rainfall_Croce_Arcana</th>\n",
       "      <th>Rainfall_Tereglio_Coreglia_Antelminelli</th>\n",
       "      <th>...</th>\n",
       "      <th>Temperature_Monte_Serra</th>\n",
       "      <th>Temperature_Ponte_a_Moriano</th>\n",
       "      <th>Temperature_Lucca_Orto_Botanico</th>\n",
       "      <th>Volume_POL</th>\n",
       "      <th>Volume_CC1</th>\n",
       "      <th>Volume_CC2</th>\n",
       "      <th>Volume_CSA</th>\n",
       "      <th>Volume_CSAL</th>\n",
       "      <th>Hydrometry_Monte_S_Quirico</th>\n",
       "      <th>Hydrometry_Piaggione</th>\n",
       "    </tr>\n",
       "  </thead>\n",
       "  <tbody>\n",
       "    <tr>\n",
       "      <th>0</th>\n",
       "      <td>1998-03-05</td>\n",
       "      <td>NaN</td>\n",
       "      <td>NaN</td>\n",
       "      <td>NaN</td>\n",
       "      <td>NaN</td>\n",
       "      <td>NaN</td>\n",
       "      <td>NaN</td>\n",
       "      <td>NaN</td>\n",
       "      <td>NaN</td>\n",
       "      <td>NaN</td>\n",
       "      <td>...</td>\n",
       "      <td>0.0</td>\n",
       "      <td>0.0</td>\n",
       "      <td>0.00</td>\n",
       "      <td>NaN</td>\n",
       "      <td>NaN</td>\n",
       "      <td>NaN</td>\n",
       "      <td>NaN</td>\n",
       "      <td>NaN</td>\n",
       "      <td>NaN</td>\n",
       "      <td>NaN</td>\n",
       "    </tr>\n",
       "    <tr>\n",
       "      <th>1</th>\n",
       "      <td>1998-03-06</td>\n",
       "      <td>NaN</td>\n",
       "      <td>NaN</td>\n",
       "      <td>NaN</td>\n",
       "      <td>NaN</td>\n",
       "      <td>NaN</td>\n",
       "      <td>NaN</td>\n",
       "      <td>NaN</td>\n",
       "      <td>NaN</td>\n",
       "      <td>NaN</td>\n",
       "      <td>...</td>\n",
       "      <td>0.0</td>\n",
       "      <td>0.0</td>\n",
       "      <td>10.05</td>\n",
       "      <td>NaN</td>\n",
       "      <td>NaN</td>\n",
       "      <td>NaN</td>\n",
       "      <td>NaN</td>\n",
       "      <td>NaN</td>\n",
       "      <td>NaN</td>\n",
       "      <td>NaN</td>\n",
       "    </tr>\n",
       "    <tr>\n",
       "      <th>2</th>\n",
       "      <td>1998-03-07</td>\n",
       "      <td>NaN</td>\n",
       "      <td>NaN</td>\n",
       "      <td>NaN</td>\n",
       "      <td>NaN</td>\n",
       "      <td>NaN</td>\n",
       "      <td>NaN</td>\n",
       "      <td>NaN</td>\n",
       "      <td>NaN</td>\n",
       "      <td>NaN</td>\n",
       "      <td>...</td>\n",
       "      <td>9.2</td>\n",
       "      <td>0.0</td>\n",
       "      <td>10.00</td>\n",
       "      <td>NaN</td>\n",
       "      <td>NaN</td>\n",
       "      <td>NaN</td>\n",
       "      <td>NaN</td>\n",
       "      <td>NaN</td>\n",
       "      <td>NaN</td>\n",
       "      <td>NaN</td>\n",
       "    </tr>\n",
       "    <tr>\n",
       "      <th>3</th>\n",
       "      <td>1998-03-08</td>\n",
       "      <td>NaN</td>\n",
       "      <td>NaN</td>\n",
       "      <td>NaN</td>\n",
       "      <td>NaN</td>\n",
       "      <td>NaN</td>\n",
       "      <td>NaN</td>\n",
       "      <td>NaN</td>\n",
       "      <td>NaN</td>\n",
       "      <td>NaN</td>\n",
       "      <td>...</td>\n",
       "      <td>11.4</td>\n",
       "      <td>0.0</td>\n",
       "      <td>13.85</td>\n",
       "      <td>NaN</td>\n",
       "      <td>NaN</td>\n",
       "      <td>NaN</td>\n",
       "      <td>NaN</td>\n",
       "      <td>NaN</td>\n",
       "      <td>NaN</td>\n",
       "      <td>NaN</td>\n",
       "    </tr>\n",
       "    <tr>\n",
       "      <th>4</th>\n",
       "      <td>1998-03-09</td>\n",
       "      <td>NaN</td>\n",
       "      <td>NaN</td>\n",
       "      <td>NaN</td>\n",
       "      <td>NaN</td>\n",
       "      <td>NaN</td>\n",
       "      <td>NaN</td>\n",
       "      <td>NaN</td>\n",
       "      <td>NaN</td>\n",
       "      <td>NaN</td>\n",
       "      <td>...</td>\n",
       "      <td>11.4</td>\n",
       "      <td>0.0</td>\n",
       "      <td>12.85</td>\n",
       "      <td>NaN</td>\n",
       "      <td>NaN</td>\n",
       "      <td>NaN</td>\n",
       "      <td>NaN</td>\n",
       "      <td>NaN</td>\n",
       "      <td>NaN</td>\n",
       "      <td>NaN</td>\n",
       "    </tr>\n",
       "  </tbody>\n",
       "</table>\n",
       "<p>5 rows × 27 columns</p>\n",
       "</div>"
      ],
      "text/plain": [
       "        Date  Rainfall_Gallicano  Rainfall_Pontetetto  Rainfall_Monte_Serra  \\\n",
       "0 1998-03-05                 NaN                  NaN                   NaN   \n",
       "1 1998-03-06                 NaN                  NaN                   NaN   \n",
       "2 1998-03-07                 NaN                  NaN                   NaN   \n",
       "3 1998-03-08                 NaN                  NaN                   NaN   \n",
       "4 1998-03-09                 NaN                  NaN                   NaN   \n",
       "\n",
       "   Rainfall_Orentano  Rainfall_Borgo_a_Mozzano  Rainfall_Piaggione  \\\n",
       "0                NaN                       NaN                 NaN   \n",
       "1                NaN                       NaN                 NaN   \n",
       "2                NaN                       NaN                 NaN   \n",
       "3                NaN                       NaN                 NaN   \n",
       "4                NaN                       NaN                 NaN   \n",
       "\n",
       "   Rainfall_Calavorno  Rainfall_Croce_Arcana  \\\n",
       "0                 NaN                    NaN   \n",
       "1                 NaN                    NaN   \n",
       "2                 NaN                    NaN   \n",
       "3                 NaN                    NaN   \n",
       "4                 NaN                    NaN   \n",
       "\n",
       "   Rainfall_Tereglio_Coreglia_Antelminelli  ...  Temperature_Monte_Serra  \\\n",
       "0                                      NaN  ...                      0.0   \n",
       "1                                      NaN  ...                      0.0   \n",
       "2                                      NaN  ...                      9.2   \n",
       "3                                      NaN  ...                     11.4   \n",
       "4                                      NaN  ...                     11.4   \n",
       "\n",
       "   Temperature_Ponte_a_Moriano  Temperature_Lucca_Orto_Botanico  Volume_POL  \\\n",
       "0                          0.0                             0.00         NaN   \n",
       "1                          0.0                            10.05         NaN   \n",
       "2                          0.0                            10.00         NaN   \n",
       "3                          0.0                            13.85         NaN   \n",
       "4                          0.0                            12.85         NaN   \n",
       "\n",
       "   Volume_CC1  Volume_CC2  Volume_CSA  Volume_CSAL  \\\n",
       "0         NaN         NaN         NaN          NaN   \n",
       "1         NaN         NaN         NaN          NaN   \n",
       "2         NaN         NaN         NaN          NaN   \n",
       "3         NaN         NaN         NaN          NaN   \n",
       "4         NaN         NaN         NaN          NaN   \n",
       "\n",
       "   Hydrometry_Monte_S_Quirico  Hydrometry_Piaggione  \n",
       "0                         NaN                   NaN  \n",
       "1                         NaN                   NaN  \n",
       "2                         NaN                   NaN  \n",
       "3                         NaN                   NaN  \n",
       "4                         NaN                   NaN  \n",
       "\n",
       "[5 rows x 27 columns]"
      ]
     },
     "execution_count": 24,
     "metadata": {},
     "output_type": "execute_result"
    }
   ],
   "source": [
    "df.head()"
   ]
  },
  {
   "cell_type": "markdown",
   "id": "meaning-tanzania",
   "metadata": {},
   "source": [
    "# Clean data"
   ]
  },
  {
   "cell_type": "code",
   "execution_count": 25,
   "id": "standard-enterprise",
   "metadata": {},
   "outputs": [],
   "source": [
    "name = filename.replace('.csv', '') + '_' + target\n",
    "body = filename.replace('.csv', '')\n"
   ]
  },
  {
   "cell_type": "code",
   "execution_count": 26,
   "id": "surprised-sense",
   "metadata": {},
   "outputs": [],
   "source": [
    "date_min = df['Date'].min()\n",
    "date_max = df['Date'].max()\n",
    "drop_cols = cleaning_config[body].get('drop_cols', [])\n",
    "replace_cols = cleaning_config[body].get('replace_cols', [])\n",
    "rename_cols = cleaning_config[body].get('rename_cols', {})\n",
    "offsets = cleaning_config[body].get('offsets', [])"
   ]
  },
  {
   "cell_type": "code",
   "execution_count": 27,
   "id": "bound-table",
   "metadata": {},
   "outputs": [
    {
     "name": "stdout",
     "output_type": "stream",
     "text": [
      "shape (8154, 26)\n"
     ]
    }
   ],
   "source": [
    "dfclean = clean_data(df, date_min, date_max, drop_cols=drop_cols, replace_cols=replace_cols, rename_cols=rename_cols, offsets=offsets)"
   ]
  },
  {
   "cell_type": "code",
   "execution_count": 28,
   "id": "cooperative-today",
   "metadata": {},
   "outputs": [
    {
     "data": {
      "text/html": [
       "<div>\n",
       "<style scoped>\n",
       "    .dataframe tbody tr th:only-of-type {\n",
       "        vertical-align: middle;\n",
       "    }\n",
       "\n",
       "    .dataframe tbody tr th {\n",
       "        vertical-align: top;\n",
       "    }\n",
       "\n",
       "    .dataframe thead th {\n",
       "        text-align: right;\n",
       "    }\n",
       "</style>\n",
       "<table border=\"1\" class=\"dataframe\">\n",
       "  <thead>\n",
       "    <tr style=\"text-align: right;\">\n",
       "      <th></th>\n",
       "      <th>Date</th>\n",
       "      <th>Rainfall_Gallicano</th>\n",
       "      <th>Rainfall_Pontetetto</th>\n",
       "      <th>Rainfall_Monte_Serra</th>\n",
       "      <th>Rainfall_Orentano</th>\n",
       "      <th>Rainfall_Borgo_a_Mozzano</th>\n",
       "      <th>Rainfall_Piaggione</th>\n",
       "      <th>Rainfall_Calavorno</th>\n",
       "      <th>Rainfall_Croce_Arcana</th>\n",
       "      <th>Rainfall_Tereglio_Coreglia_Antelminelli</th>\n",
       "      <th>...</th>\n",
       "      <th>Temperature_Orentano</th>\n",
       "      <th>Temperature_Monte_Serra</th>\n",
       "      <th>Temperature_Lucca_Orto_Botanico</th>\n",
       "      <th>Volume_POL</th>\n",
       "      <th>Volume_CC1</th>\n",
       "      <th>Volume_CC2</th>\n",
       "      <th>Volume_CSA</th>\n",
       "      <th>Volume_CSAL</th>\n",
       "      <th>Hydrometry_Monte_S_Quirico</th>\n",
       "      <th>Hydrometry_Piaggione</th>\n",
       "    </tr>\n",
       "  </thead>\n",
       "  <tbody>\n",
       "    <tr>\n",
       "      <th>0</th>\n",
       "      <td>1998-03-05</td>\n",
       "      <td>NaN</td>\n",
       "      <td>NaN</td>\n",
       "      <td>NaN</td>\n",
       "      <td>NaN</td>\n",
       "      <td>NaN</td>\n",
       "      <td>NaN</td>\n",
       "      <td>NaN</td>\n",
       "      <td>NaN</td>\n",
       "      <td>NaN</td>\n",
       "      <td>...</td>\n",
       "      <td>0.0</td>\n",
       "      <td>0.0</td>\n",
       "      <td>0.00</td>\n",
       "      <td>NaN</td>\n",
       "      <td>NaN</td>\n",
       "      <td>NaN</td>\n",
       "      <td>NaN</td>\n",
       "      <td>NaN</td>\n",
       "      <td>NaN</td>\n",
       "      <td>NaN</td>\n",
       "    </tr>\n",
       "    <tr>\n",
       "      <th>1</th>\n",
       "      <td>1998-03-06</td>\n",
       "      <td>NaN</td>\n",
       "      <td>NaN</td>\n",
       "      <td>NaN</td>\n",
       "      <td>NaN</td>\n",
       "      <td>NaN</td>\n",
       "      <td>NaN</td>\n",
       "      <td>NaN</td>\n",
       "      <td>NaN</td>\n",
       "      <td>NaN</td>\n",
       "      <td>...</td>\n",
       "      <td>0.0</td>\n",
       "      <td>0.0</td>\n",
       "      <td>10.05</td>\n",
       "      <td>NaN</td>\n",
       "      <td>NaN</td>\n",
       "      <td>NaN</td>\n",
       "      <td>NaN</td>\n",
       "      <td>NaN</td>\n",
       "      <td>NaN</td>\n",
       "      <td>NaN</td>\n",
       "    </tr>\n",
       "    <tr>\n",
       "      <th>2</th>\n",
       "      <td>1998-03-07</td>\n",
       "      <td>NaN</td>\n",
       "      <td>NaN</td>\n",
       "      <td>NaN</td>\n",
       "      <td>NaN</td>\n",
       "      <td>NaN</td>\n",
       "      <td>NaN</td>\n",
       "      <td>NaN</td>\n",
       "      <td>NaN</td>\n",
       "      <td>NaN</td>\n",
       "      <td>...</td>\n",
       "      <td>0.0</td>\n",
       "      <td>9.2</td>\n",
       "      <td>10.00</td>\n",
       "      <td>NaN</td>\n",
       "      <td>NaN</td>\n",
       "      <td>NaN</td>\n",
       "      <td>NaN</td>\n",
       "      <td>NaN</td>\n",
       "      <td>NaN</td>\n",
       "      <td>NaN</td>\n",
       "    </tr>\n",
       "    <tr>\n",
       "      <th>3</th>\n",
       "      <td>1998-03-08</td>\n",
       "      <td>NaN</td>\n",
       "      <td>NaN</td>\n",
       "      <td>NaN</td>\n",
       "      <td>NaN</td>\n",
       "      <td>NaN</td>\n",
       "      <td>NaN</td>\n",
       "      <td>NaN</td>\n",
       "      <td>NaN</td>\n",
       "      <td>NaN</td>\n",
       "      <td>...</td>\n",
       "      <td>0.0</td>\n",
       "      <td>11.4</td>\n",
       "      <td>13.85</td>\n",
       "      <td>NaN</td>\n",
       "      <td>NaN</td>\n",
       "      <td>NaN</td>\n",
       "      <td>NaN</td>\n",
       "      <td>NaN</td>\n",
       "      <td>NaN</td>\n",
       "      <td>NaN</td>\n",
       "    </tr>\n",
       "    <tr>\n",
       "      <th>4</th>\n",
       "      <td>1998-03-09</td>\n",
       "      <td>NaN</td>\n",
       "      <td>NaN</td>\n",
       "      <td>NaN</td>\n",
       "      <td>NaN</td>\n",
       "      <td>NaN</td>\n",
       "      <td>NaN</td>\n",
       "      <td>NaN</td>\n",
       "      <td>NaN</td>\n",
       "      <td>NaN</td>\n",
       "      <td>...</td>\n",
       "      <td>0.0</td>\n",
       "      <td>11.4</td>\n",
       "      <td>12.85</td>\n",
       "      <td>NaN</td>\n",
       "      <td>NaN</td>\n",
       "      <td>NaN</td>\n",
       "      <td>NaN</td>\n",
       "      <td>NaN</td>\n",
       "      <td>NaN</td>\n",
       "      <td>NaN</td>\n",
       "    </tr>\n",
       "  </tbody>\n",
       "</table>\n",
       "<p>5 rows × 26 columns</p>\n",
       "</div>"
      ],
      "text/plain": [
       "        Date  Rainfall_Gallicano  Rainfall_Pontetetto  Rainfall_Monte_Serra  \\\n",
       "0 1998-03-05                 NaN                  NaN                   NaN   \n",
       "1 1998-03-06                 NaN                  NaN                   NaN   \n",
       "2 1998-03-07                 NaN                  NaN                   NaN   \n",
       "3 1998-03-08                 NaN                  NaN                   NaN   \n",
       "4 1998-03-09                 NaN                  NaN                   NaN   \n",
       "\n",
       "   Rainfall_Orentano  Rainfall_Borgo_a_Mozzano  Rainfall_Piaggione  \\\n",
       "0                NaN                       NaN                 NaN   \n",
       "1                NaN                       NaN                 NaN   \n",
       "2                NaN                       NaN                 NaN   \n",
       "3                NaN                       NaN                 NaN   \n",
       "4                NaN                       NaN                 NaN   \n",
       "\n",
       "   Rainfall_Calavorno  Rainfall_Croce_Arcana  \\\n",
       "0                 NaN                    NaN   \n",
       "1                 NaN                    NaN   \n",
       "2                 NaN                    NaN   \n",
       "3                 NaN                    NaN   \n",
       "4                 NaN                    NaN   \n",
       "\n",
       "   Rainfall_Tereglio_Coreglia_Antelminelli  ...  Temperature_Orentano  \\\n",
       "0                                      NaN  ...                   0.0   \n",
       "1                                      NaN  ...                   0.0   \n",
       "2                                      NaN  ...                   0.0   \n",
       "3                                      NaN  ...                   0.0   \n",
       "4                                      NaN  ...                   0.0   \n",
       "\n",
       "   Temperature_Monte_Serra  Temperature_Lucca_Orto_Botanico  Volume_POL  \\\n",
       "0                      0.0                             0.00         NaN   \n",
       "1                      0.0                            10.05         NaN   \n",
       "2                      9.2                            10.00         NaN   \n",
       "3                     11.4                            13.85         NaN   \n",
       "4                     11.4                            12.85         NaN   \n",
       "\n",
       "   Volume_CC1  Volume_CC2  Volume_CSA  Volume_CSAL  \\\n",
       "0         NaN         NaN         NaN          NaN   \n",
       "1         NaN         NaN         NaN          NaN   \n",
       "2         NaN         NaN         NaN          NaN   \n",
       "3         NaN         NaN         NaN          NaN   \n",
       "4         NaN         NaN         NaN          NaN   \n",
       "\n",
       "   Hydrometry_Monte_S_Quirico  Hydrometry_Piaggione  \n",
       "0                         NaN                   NaN  \n",
       "1                         NaN                   NaN  \n",
       "2                         NaN                   NaN  \n",
       "3                         NaN                   NaN  \n",
       "4                         NaN                   NaN  \n",
       "\n",
       "[5 rows x 26 columns]"
      ]
     },
     "execution_count": 28,
     "metadata": {},
     "output_type": "execute_result"
    }
   ],
   "source": [
    "dfclean.head()"
   ]
  },
  {
   "cell_type": "markdown",
   "id": "sound-meeting",
   "metadata": {},
   "source": [
    "# Feature engineering"
   ]
  },
  {
   "cell_type": "code",
   "execution_count": 41,
   "id": "refined-remark",
   "metadata": {},
   "outputs": [],
   "source": [
    "cleandir = '../data/clean'\n",
    "filename_cols = glob.glob(os.path.join(cleandir, '*.xlsx'))[0]\n",
    "dfcols = pd.read_excel(filename_cols, engine='openpyxl')"
   ]
  },
  {
   "cell_type": "code",
   "execution_count": 42,
   "id": "functional-supervision",
   "metadata": {},
   "outputs": [],
   "source": [
    "\n",
    "targets = dfcols[(dfcols['name']==body) & (dfcols['coltype']=='target')]['colname'].values\n"
   ]
  },
  {
   "cell_type": "code",
   "execution_count": 43,
   "id": "nonprofit-ordering",
   "metadata": {},
   "outputs": [],
   "source": [
    "\n",
    "cols_to_drop = cols_to_drop_config.get(body, [])\n",
    "cols_to_avg = cols_to_avg_config.get(body, [])\n",
    "\n",
    "nperiods = 3\n",
    "difference = True\n",
    "\n",
    "dfallfeats = create_features(dfclean, targets, nperiods, cols_to_avg, cols_to_drop, difference=difference)\n",
    "\n"
   ]
  },
  {
   "cell_type": "markdown",
   "id": "lovely-poverty",
   "metadata": {},
   "source": [
    "# Feature selection"
   ]
  },
  {
   "cell_type": "code",
   "execution_count": 44,
   "id": "needed-hotel",
   "metadata": {},
   "outputs": [],
   "source": [
    "features_file = os.path.join(os.path.join(modeldir, 'D%d'%FORECAST_PERIOD), 'features_%s.joblib'%name)\n",
    "features_dict = load(features_file)"
   ]
  },
  {
   "cell_type": "code",
   "execution_count": 47,
   "id": "reasonable-coordinate",
   "metadata": {},
   "outputs": [],
   "source": [
    "cols = [target] + list(features_dict['features'])"
   ]
  },
  {
   "cell_type": "code",
   "execution_count": 48,
   "id": "theoretical-courage",
   "metadata": {},
   "outputs": [],
   "source": [
    "dffeats = dfallfeats[cols]"
   ]
  },
  {
   "cell_type": "markdown",
   "id": "curious-neutral",
   "metadata": {},
   "source": [
    "# Load model and predict"
   ]
  },
  {
   "cell_type": "code",
   "execution_count": 50,
   "id": "particular-shipping",
   "metadata": {},
   "outputs": [],
   "source": [
    "modelname = 'model_%s.joblib'%(name)\n",
    "model = load(os.path.join(modeldir, 'D%d'%FORECAST_PERIOD, modelname))"
   ]
  },
  {
   "cell_type": "code",
   "execution_count": 51,
   "id": "armed-tower",
   "metadata": {},
   "outputs": [],
   "source": [
    "batchsize = 30  # TEST_PERIOD"
   ]
  },
  {
   "cell_type": "code",
   "execution_count": 53,
   "id": "floral-strap",
   "metadata": {},
   "outputs": [],
   "source": [
    "X = dffeats.iloc[-batchsize:, 1:].values\n",
    "y = dffeats.iloc[-batchsize:, 0].values\n",
    "y_pred = model.predict(X)"
   ]
  },
  {
   "cell_type": "markdown",
   "id": "crucial-transcript",
   "metadata": {},
   "source": [
    "# Visualise"
   ]
  },
  {
   "cell_type": "code",
   "execution_count": 61,
   "id": "similar-furniture",
   "metadata": {},
   "outputs": [],
   "source": [
    "dfvis = dffeats.iloc[-batchsize:, [0]]\n",
    "dfvis['pred'] = y_pred\n",
    "dfvis.columns = ['true', 'pred']"
   ]
  },
  {
   "cell_type": "code",
   "execution_count": 63,
   "id": "secure-pioneer",
   "metadata": {},
   "outputs": [
    {
     "data": {
      "text/plain": [
       "Text(0, 0.5, 'Depth_to_Groundwater_COS')"
      ]
     },
     "execution_count": 63,
     "metadata": {},
     "output_type": "execute_result"
    },
    {
     "data": {
      "image/png": "[encoded data removed]",
      "text/plain": [
       "<Figure size 432x288 with 1 Axes>"
      ]
     },
     "metadata": {
      "needs_background": "light"
     },
     "output_type": "display_data"
    }
   ],
   "source": [
    "dfvis.plot(marker='.', linestyle='')\n",
    "plt.title('%s - %s'%(body, target))\n",
    "plt.ylabel(target)"
   ]
  },
  {
   "cell_type": "code",
   "execution_count": null,
   "id": "expired-academy",
   "metadata": {},
   "outputs": [],
   "source": []
  }
 ],
 "metadata": {
  "kernelspec": {
   "display_name": "Python 3",
   "language": "python",
   "name": "python3"
  },
  "language_info": {
   "codemirror_mode": {
    "name": "ipython",
    "version": 3
   },
   "file_extension": ".py",
   "mimetype": "text/x-python",
   "name": "python",
   "nbconvert_exporter": "python",
   "pygments_lexer": "ipython3",
   "version": "3.6.8"
  }
 },
 "nbformat": 4,
 "nbformat_minor": 5
}
